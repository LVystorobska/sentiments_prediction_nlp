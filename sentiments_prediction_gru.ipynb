{
 "cells": [
  {
   "cell_type": "code",
   "execution_count": 1,
   "id": "5bb2d81c",
   "metadata": {
    "execution": {
     "iopub.execute_input": "2022-02-15T22:29:15.509981Z",
     "iopub.status.busy": "2022-02-15T22:29:15.507838Z",
     "iopub.status.idle": "2022-02-15T22:29:18.975894Z",
     "shell.execute_reply": "2022-02-15T22:29:18.974919Z",
     "shell.execute_reply.started": "2022-02-15T22:25:46.267026Z"
    },
    "papermill": {
     "duration": 3.514078,
     "end_time": "2022-02-15T22:29:18.976118",
     "exception": false,
     "start_time": "2022-02-15T22:29:15.462040",
     "status": "completed"
    },
    "tags": []
   },
   "outputs": [],
   "source": [
    "import numpy\n",
    "import pandas\n",
    "import re\n",
    "import seaborn\n",
    "import time\n",
    "import torch\n",
    "import torch.nn as nn\n",
    "from matplotlib import pyplot\n",
    "from nltk.corpus import stopwords\n",
    "from sklearn import metrics\n",
    "from sklearn.model_selection import train_test_split\n",
    "from sklearn.preprocessing import OneHotEncoder\n",
    "from torch.utils.data import DataLoader, Dataset\n",
    "from typing import Any"
   ]
  },
  {
   "cell_type": "code",
   "execution_count": 2,
   "id": "ca1c09aa",
   "metadata": {
    "execution": {
     "iopub.execute_input": "2022-02-15T22:29:19.031024Z",
     "iopub.status.busy": "2022-02-15T22:29:19.029851Z",
     "iopub.status.idle": "2022-02-15T22:29:19.494743Z",
     "shell.execute_reply": "2022-02-15T22:29:19.495633Z",
     "shell.execute_reply.started": "2022-02-15T22:25:49.137211Z"
    },
    "papermill": {
     "duration": 0.494964,
     "end_time": "2022-02-15T22:29:19.495890",
     "exception": false,
     "start_time": "2022-02-15T22:29:19.000926",
     "status": "completed"
    },
    "tags": []
   },
   "outputs": [
    {
     "name": "stdout",
     "output_type": "stream",
     "text": [
      "The shape of the training data frame: (74682, 4)\n",
      "The shape of the testing data frame: (1000, 4)\n",
      "\n",
      "\n",
      "The description for the training data frame:\n",
      "         TokenCount\n",
      "count  74682.000000\n",
      "mean      19.237340\n",
      "std       14.502922\n",
      "min        1.000000\n",
      "25%        8.000000\n",
      "50%       16.000000\n",
      "75%       27.000000\n",
      "max      198.000000\n",
      "\n",
      "\n",
      "The description for the training data frame:\n",
      "        TokenCount\n",
      "count  1000.000000\n",
      "mean     20.701000\n",
      "std      13.354023\n",
      "min       1.000000\n",
      "25%      10.000000\n",
      "50%      17.000000\n",
      "75%      31.000000\n",
      "max      57.000000\n",
      "\n",
      "\n"
     ]
    }
   ],
   "source": [
    "training_data_frame = pandas.read_csv('datasets/twitter_training.csv', names=['id','entity','label','tweet'])\n",
    "testing_data_frame = pandas.read_csv('datasets/twitter_validation.csv', names=['id','entity','label','tweet'])\n",
    "\n",
    "print('The shape of the training data frame: ' + str(training_data_frame.shape))\n",
    "print('The shape of the testing data frame: ' + str(testing_data_frame.shape))\n",
    "\n",
    "training_data_frame = training_data_frame[['label', 'tweet']]\n",
    "testing_data_frame = testing_data_frame[['label', 'tweet']]\n",
    "\n",
    "training_data_frame['tokens_count'] = training_data_frame['tweet'].apply(lambda text: len(str(text).split(' ')))\n",
    "testing_data_frame['tokens_count'] = testing_data_frame['tweet'].apply(lambda text: len(str(text).split(' ')))\n",
    "\n",
    "print('The description for the training data frame:')\n",
    "print(training_data_frame.describe())\n",
    "print('The description for the training data frame:')\n",
    "print(testing_data_frame.describe())"
   ]
  },
  {
   "cell_type": "code",
   "execution_count": 3,
   "id": "dc813349",
   "metadata": {
    "execution": {
     "iopub.execute_input": "2022-02-15T22:29:19.551114Z",
     "iopub.status.busy": "2022-02-15T22:29:19.550102Z",
     "iopub.status.idle": "2022-02-15T22:29:19.553671Z",
     "shell.execute_reply": "2022-02-15T22:29:19.552926Z",
     "shell.execute_reply.started": "2022-02-15T22:25:49.575399Z"
    },
    "papermill": {
     "duration": 0.035845,
     "end_time": "2022-02-15T22:29:19.553855",
     "exception": false,
     "start_time": "2022-02-15T22:29:19.518010",
     "status": "completed"
    },
    "tags": []
   },
   "outputs": [],
   "source": [
    "def add_padding_to_text(text, needed_length):\n",
    "    result_text = numpy.zeros(needed_length, dtype=numpy.int64)\n",
    "\n",
    "    if len(text) > needed_length:\n",
    "        result_text[:] = text[:needed_length]\n",
    "    else:\n",
    "        result_text[:len(text)] = text\n",
    "\n",
    "    return result_text\n",
    "\n",
    "def clear_punctuation_signs(text):\n",
    "    text = re.sub(r'[\\'#$%&\\'@_`~]', r'', text)\n",
    "    text = re.sub(r'[!\\\\()*+,-./:;<=>?\\[\\]^{|}]', r' ', text)\n",
    "    text = text.strip()\n",
    "    text = text.replace('\\n', ' ')\n",
    "\n",
    "    return text\n",
    "\n",
    "def filter_non_alphabetic_chars(text):\n",
    "    alphabetic_text = ''\n",
    "\n",
    "    for word in text.split():\n",
    "        alphabetic_word = re.sub('[^a-z A-Z]+', '', word)\n",
    "        alphabetic_text += alphabetic_word\n",
    "        alphabetic_text += ' '\n",
    "\n",
    "    alphabetic_text = alphabetic_text.strip()\n",
    "\n",
    "    return alphabetic_text\n",
    "\n",
    "\n",
    "def remove_repeated_chars(text):\n",
    "    return re.sub(r'(\\w)(\\1{2,})', r'\\1', text)\n",
    "\n",
    "def remove_stopwords(text):\n",
    "    stop_word = set(stopwords.words('english'))\n",
    "    re_stop_words = re.compile(r'\\b(' + '|'.join(stopwords.words('english')) + ')\\\\W', re.I)\n",
    "\n",
    "    return re_stop_words.sub('', text)\n",
    "\n",
    "def process_the_text(text):\n",
    "    text = str(text).lower()\n",
    "    text = clear_punctuation_signs(text)\n",
    "    text = filter_non_alphabetic_chars(text)\n",
    "    text = remove_repeated_chars(text)\n",
    "    text = remove_stopwords(text)\n",
    "\n",
    "    return text"
   ]
  },
  {
   "cell_type": "code",
   "execution_count": 4,
   "id": "a852228d",
   "metadata": {
    "_cell_guid": "b1076dfc-b9ad-4769-8c92-a6c4dae69d19",
    "_uuid": "8f2839f25d086af736a60e9eeb907d3b93b6e0e5",
    "execution": {
     "iopub.execute_input": "2022-02-15T22:29:19.602053Z",
     "iopub.status.busy": "2022-02-15T22:29:19.600950Z",
     "iopub.status.idle": "2022-02-15T22:29:49.724692Z",
     "shell.execute_reply": "2022-02-15T22:29:49.725601Z",
     "shell.execute_reply.started": "2022-02-15T22:25:49.588468Z"
    },
    "papermill": {
     "duration": 30.151388,
     "end_time": "2022-02-15T22:29:49.725834",
     "exception": false,
     "start_time": "2022-02-15T22:29:19.574446",
     "status": "completed"
    },
    "tags": []
   },
   "outputs": [
    {
     "name": "stdout",
     "output_type": "stream",
     "text": [
      "(50000, 3)\n",
      "(1000, 3)\n"
     ]
    }
   ],
   "source": [
    "training_data_frame = training_data_frame.loc[training_data_frame['tokens_count'] < 60]\n",
    "testing_data_frame = testing_data_frame.loc[testing_data_frame['tokens_count'] < 60]\n",
    "\n",
    "training_data_frame = training_data_frame.sample(n=50000)\n",
    "\n",
    "print(training_data_frame.shape)\n",
    "print(testing_data_frame.shape)\n",
    "\n",
    "training_data_frame['tweet'] = training_data_frame['tweet'].apply(process_the_text)\n",
    "testing_data_frame['tweet'] = testing_data_frame['tweet'].apply(process_the_text)"
   ]
  },
  {
   "cell_type": "code",
   "execution_count": 5,
   "id": "2d36fc1e",
   "metadata": {
    "execution": {
     "iopub.execute_input": "2022-02-15T22:29:49.781052Z",
     "iopub.status.busy": "2022-02-15T22:29:49.779707Z",
     "iopub.status.idle": "2022-02-15T22:29:49.788652Z",
     "shell.execute_reply": "2022-02-15T22:29:49.788064Z",
     "shell.execute_reply.started": "2022-02-15T22:26:10.710345Z"
    },
    "papermill": {
     "duration": 0.037049,
     "end_time": "2022-02-15T22:29:49.788894",
     "exception": false,
     "start_time": "2022-02-15T22:29:49.751845",
     "status": "completed"
    },
    "tags": []
   },
   "outputs": [],
   "source": [
    "class Tweet_Vocabulary:\n",
    "    \n",
    "    def __init__(self, word_set):\n",
    "        self.word2index = {}\n",
    "        self.index2word = {}\n",
    "        self.vocab = word_set\n",
    "        self.create_index()\n",
    "        \n",
    "    def create_index(self):\n",
    "        self.vocab = sorted(self.vocab)\n",
    "\n",
    "        self.word2index['<padding>'] = 0\n",
    "        self.index2word[0] = '<padding>'\n",
    "\n",
    "        for index, word in enumerate(self.vocab):\n",
    "            self.word2index[word] = index + 1\n",
    "            self.index2word[index + 1] = word"
   ]
  },
  {
   "cell_type": "code",
   "execution_count": 6,
   "id": "14bde421",
   "metadata": {
    "execution": {
     "iopub.execute_input": "2022-02-15T22:29:49.842348Z",
     "iopub.status.busy": "2022-02-15T22:29:49.841209Z",
     "iopub.status.idle": "2022-02-15T22:29:50.010881Z",
     "shell.execute_reply": "2022-02-15T22:29:50.011749Z",
     "shell.execute_reply.started": "2022-02-15T22:26:10.720029Z"
    },
    "papermill": {
     "duration": 0.198711,
     "end_time": "2022-02-15T22:29:50.012068",
     "exception": false,
     "start_time": "2022-02-15T22:29:49.813357",
     "status": "completed"
    },
    "tags": []
   },
   "outputs": [
    {
     "name": "stdout",
     "output_type": "stream",
     "text": [
      "The number of unique words:\n",
      "27921\n"
     ]
    }
   ],
   "source": [
    "all_words_set = set()\n",
    "\n",
    "for row in training_data_frame['tweet']:\n",
    "    all_words_set.update(str(row).split(' '))\n",
    "\n",
    "for row in testing_data_frame['tweet']:\n",
    "    all_words_set.update(str(row).split(' '))\n",
    "\n",
    "tweet_vocab = Tweet_Vocabulary(all_words_set)\n",
    "print('The number of unique words:')\n",
    "print(len(tweet_vocab.vocab))"
   ]
  },
  {
   "cell_type": "code",
   "execution_count": 7,
   "id": "9e7822be",
   "metadata": {
    "execution": {
     "iopub.execute_input": "2022-02-15T22:29:50.091789Z",
     "iopub.status.busy": "2022-02-15T22:29:50.081271Z",
     "iopub.status.idle": "2022-02-15T22:29:50.547015Z",
     "shell.execute_reply": "2022-02-15T22:29:50.545986Z",
     "shell.execute_reply.started": "2022-02-15T22:26:10.873874Z"
    },
    "papermill": {
     "duration": 0.508618,
     "end_time": "2022-02-15T22:29:50.547175",
     "exception": false,
     "start_time": "2022-02-15T22:29:50.038557",
     "status": "completed"
    },
    "tags": []
   },
   "outputs": [],
   "source": [
    "training_data_tensor = [\n",
    "    [\n",
    "        tweet_vocab.word2index[word] for word in tweet.split(' ')\n",
    "    ]\n",
    "    for tweet in training_data_frame['tweet']\n",
    "]\n",
    "\n",
    "testing_data_tensor = [\n",
    "    [\n",
    "        tweet_vocab.word2index[word] for word in tweet.split(' ')\n",
    "    ]\n",
    "    for tweet in testing_data_frame['tweet']\n",
    "]\n",
    "\n",
    "max_length_training = max(len(x) for x in training_data_tensor)\n",
    "max_length_testing = max(len(x) for x in testing_data_tensor)\n",
    "\n",
    "training_data_tensor = [add_padding_to_text(text, max_length_training) for text in training_data_tensor]\n",
    "testing_data_tensor = [add_padding_to_text(text, max_length_testing) for text in testing_data_tensor]"
   ]
  },
  {
   "cell_type": "code",
   "execution_count": 8,
   "id": "2f4a676b",
   "metadata": {
    "execution": {
     "iopub.execute_input": "2022-02-15T22:29:50.620131Z",
     "iopub.status.busy": "2022-02-15T22:29:50.605940Z",
     "iopub.status.idle": "2022-02-15T22:29:50.646745Z",
     "shell.execute_reply": "2022-02-15T22:29:50.646214Z",
     "shell.execute_reply.started": "2022-02-15T22:26:11.264248Z"
    },
    "papermill": {
     "duration": 0.075751,
     "end_time": "2022-02-15T22:29:50.646894",
     "exception": false,
     "start_time": "2022-02-15T22:29:50.571143",
     "status": "completed"
    },
    "tags": []
   },
   "outputs": [],
   "source": [
    "one_hot_encoder = OneHotEncoder(handle_unknown='ignore')\n",
    "\n",
    "training_sentiment_array = numpy.array(training_data_frame['label'])\n",
    "training_sentiment_array = training_sentiment_array.reshape(-1, 1)\n",
    "training_target_tensor = one_hot_encoder.fit_transform(training_sentiment_array).toarray()\n",
    "\n",
    "testing_sentiment_array = numpy.array(testing_data_frame['label'])\n",
    "testing_sentiment_array = testing_sentiment_array.reshape(-1, 1)\n",
    "testing_target_tensor = one_hot_encoder.fit_transform(testing_sentiment_array).toarray()\n",
    "\n",
    "training_input, validation_input, training_target, validation_target = train_test_split(training_data_tensor, training_target_tensor, test_size=0.2, random_state=1000)\n",
    "testing_input = testing_data_tensor\n",
    "testing_target = testing_target_tensor"
   ]
  },
  {
   "cell_type": "code",
   "execution_count": 9,
   "id": "ed2aac16",
   "metadata": {
    "execution": {
     "iopub.execute_input": "2022-02-15T22:29:50.697135Z",
     "iopub.status.busy": "2022-02-15T22:29:50.696130Z",
     "iopub.status.idle": "2022-02-15T22:29:50.699569Z",
     "shell.execute_reply": "2022-02-15T22:29:50.699024Z",
     "shell.execute_reply.started": "2022-02-15T22:26:11.310469Z"
    },
    "papermill": {
     "duration": 0.031559,
     "end_time": "2022-02-15T22:29:50.699727",
     "exception": false,
     "start_time": "2022-02-15T22:29:50.668168",
     "status": "completed"
    },
    "tags": []
   },
   "outputs": [],
   "source": [
    "class Twitter_Dataset(Dataset):\n",
    "\n",
    "    def __init__(self, data, target):\n",
    "        self.data = data\n",
    "        self.target = target\n",
    "        self.length = [numpy.sum(1 - numpy.equal(i, 0)) for i in data]\n",
    "        \n",
    "    def __getitem__(self, index):\n",
    "        data = self.data[index]\n",
    "        target = self.target[index]\n",
    "        data_length = self.length[index]\n",
    "        \n",
    "        return data, target, data_length\n",
    "    \n",
    "    def __len__(self):\n",
    "        return len(self.data)\n"
   ]
  },
  {
   "cell_type": "code",
   "execution_count": 10,
   "id": "fa434c2f",
   "metadata": {
    "execution": {
     "iopub.execute_input": "2022-02-15T22:29:50.751102Z",
     "iopub.status.busy": "2022-02-15T22:29:50.746119Z",
     "iopub.status.idle": "2022-02-15T22:29:51.375030Z",
     "shell.execute_reply": "2022-02-15T22:29:51.374032Z",
     "shell.execute_reply.started": "2022-02-15T22:26:11.320965Z"
    },
    "papermill": {
     "duration": 0.654466,
     "end_time": "2022-02-15T22:29:51.375187",
     "exception": false,
     "start_time": "2022-02-15T22:29:50.720721",
     "status": "completed"
    },
    "tags": []
   },
   "outputs": [],
   "source": [
    "TRAINING_BUFFER_SIZE = len(training_input)\n",
    "VALIDATION_BUFFER_SIZE = len(validation_input)\n",
    "TESTING_BUFFER_SIZE = len(testing_input)\n",
    "BATCH_SIZE = 64\n",
    "\n",
    "TRAINING_BATCH_COUNT = TRAINING_BUFFER_SIZE // BATCH_SIZE\n",
    "VALIDATION_BATCH_COUNT = VALIDATION_BUFFER_SIZE // BATCH_SIZE\n",
    "TESTING_BATCH_COUNT = TESTING_BUFFER_SIZE // BATCH_SIZE\n",
    "\n",
    "training_dataset = Twitter_Dataset(training_input, training_target)\n",
    "validation_dataset = Twitter_Dataset(validation_input, validation_target)\n",
    "testing_dataset = Twitter_Dataset(testing_input, testing_target)\n",
    "\n",
    "training_dataset = DataLoader(training_dataset, batch_size=BATCH_SIZE, drop_last=True, shuffle=True)\n",
    "validation_dataset = DataLoader(validation_dataset, batch_size=BATCH_SIZE, drop_last=True, shuffle=True)\n",
    "testing_dataset = DataLoader(testing_dataset, batch_size=BATCH_SIZE, drop_last=True, shuffle=True)\n",
    "\n",
    "embedding_dim = 256\n",
    "units = 1024\n",
    "vocabulary_size = len(tweet_vocab.word2index)\n",
    "target_size = len(training_target_tensor[0])"
   ]
  },
  {
   "cell_type": "code",
   "execution_count": 11,
   "id": "52100f90",
   "metadata": {
    "execution": {
     "iopub.execute_input": "2022-02-15T22:29:51.431656Z",
     "iopub.status.busy": "2022-02-15T22:29:51.429449Z",
     "iopub.status.idle": "2022-02-15T22:29:51.432427Z",
     "shell.execute_reply": "2022-02-15T22:29:51.432915Z",
     "shell.execute_reply.started": "2022-02-15T22:26:11.799532Z"
    },
    "papermill": {
     "duration": 0.036462,
     "end_time": "2022-02-15T22:29:51.433144",
     "exception": false,
     "start_time": "2022-02-15T22:29:51.396682",
     "status": "completed"
    },
    "tags": []
   },
   "outputs": [],
   "source": [
    "class GRU_Model(nn.Module):\n",
    "\n",
    "    def __init__(self, vocab_size, embedding_dim, hidden_units, batch_size, output_size):\n",
    "        super(GRU_Model, self).__init__()\n",
    "        self.batch_size = batch_size\n",
    "        self.vocab_size = vocab_size\n",
    "        self.embedding_dim = embedding_dim\n",
    "        self.hidden_units = hidden_units\n",
    "        self.output_size = output_size\n",
    "\n",
    "        self.embedding = nn.Embedding(self.vocab_size, self.embedding_dim)\n",
    "        self.dropout = nn.Dropout(p=0.5)\n",
    "        self.gru = nn.GRU(self.embedding_dim, self.hidden_units)\n",
    "        self.linear = nn.Linear(self.hidden_units, self.output_size)\n",
    "\n",
    "    def initialize_hidden_state(self, device):\n",
    "        return torch.zeros((1, self.batch_size, self.hidden_units)).to(device)\n",
    "\n",
    "    def forward(self, input_text, device):\n",
    "        input_text = self.embedding(input_text)\n",
    "        self.hidden_state = self.initialize_hidden_state(device)\n",
    "        output, self.hidden_state = self.gru(input_text, self.hidden_state)\n",
    "        out = output[-1, :, :]\n",
    "        out = self.dropout(out)\n",
    "        out = self.linear(out)\n",
    "\n",
    "        return out, self.hidden_state\n",
    "\n",
    "    def _forward_unimplemented(self, *input_text: Any) -> None:\n",
    "        pass"
   ]
  },
  {
   "cell_type": "code",
   "execution_count": 12,
   "id": "cb362bb3",
   "metadata": {
    "execution": {
     "iopub.execute_input": "2022-02-15T22:29:51.544326Z",
     "iopub.status.busy": "2022-02-15T22:29:51.543489Z",
     "iopub.status.idle": "2022-02-15T22:29:57.184105Z",
     "shell.execute_reply": "2022-02-15T22:29:57.183371Z",
     "shell.execute_reply.started": "2022-02-15T22:26:11.811207Z"
    },
    "papermill": {
     "duration": 5.729604,
     "end_time": "2022-02-15T22:29:57.184258",
     "exception": false,
     "start_time": "2022-02-15T22:29:51.454654",
     "status": "completed"
    },
    "tags": []
   },
   "outputs": [
    {
     "name": "stdout",
     "output_type": "stream",
     "text": [
      "torch.Size([64, 4])\n"
     ]
    }
   ],
   "source": [
    "def sort_batch(batch_input, batch_output, batch_x_length):\n",
    "    batch_x_length, batch_index = batch_x_length.sort(dim=0, descending=True)\n",
    "    batch_input = batch_input[batch_index]\n",
    "    batch_output = batch_output[batch_index]\n",
    "\n",
    "    return batch_input.transpose(0, 1), batch_output, batch_x_length\n",
    "\n",
    "current_device = torch.device('cuda' if torch.cuda.is_available() else 'cpu')\n",
    "model = GRU_Model(vocabulary_size, embedding_dim, units, BATCH_SIZE, target_size)\n",
    "model.to(current_device)\n",
    "\n",
    "it = iter(training_dataset)\n",
    "x, y, x_length = next(it)\n",
    "\n",
    "x_sorted, y_sorted, length_sorted = sort_batch(x, y, x_length)\n",
    "\n",
    "output, _ = model(x_sorted.to(current_device), current_device)\n",
    "print(output.size())"
   ]
  },
  {
   "cell_type": "code",
   "execution_count": 13,
   "id": "c64e6a74",
   "metadata": {
    "execution": {
     "iopub.execute_input": "2022-02-15T22:29:57.237377Z",
     "iopub.status.busy": "2022-02-15T22:29:57.236419Z",
     "iopub.status.idle": "2022-02-15T22:29:57.345661Z",
     "shell.execute_reply": "2022-02-15T22:29:57.346212Z",
     "shell.execute_reply.started": "2022-02-15T22:26:16.349905Z"
    },
    "papermill": {
     "duration": 0.139579,
     "end_time": "2022-02-15T22:29:57.346402",
     "exception": false,
     "start_time": "2022-02-15T22:29:57.206823",
     "status": "completed"
    },
    "tags": []
   },
   "outputs": [],
   "source": [
    "device = torch.device('cuda' if torch.cuda.is_available() else 'cpu')\n",
    "model = GRU_Model(vocabulary_size, embedding_dim, units, BATCH_SIZE, target_size)\n",
    "model.to(device)\n",
    "\n",
    "criterion = nn.CrossEntropyLoss()\n",
    "optimizer = torch.optim.Adam(model.parameters())\n",
    "\n",
    "def loss_function(y, prediction):\n",
    "    target = torch.max(y, 1)[1]\n",
    "    loss = criterion(prediction, target)\n",
    "\n",
    "    return loss\n",
    "\n",
    "def accuracy(target, prediction):\n",
    "    target = torch.max(target, 1)[1]\n",
    "    correct_count = (torch.max(prediction, 1)[1].data == target).sum()\n",
    "    accuracy = 100. * correct_count / len(prediction)\n",
    "\n",
    "    return accuracy"
   ]
  },
  {
   "cell_type": "code",
   "execution_count": 14,
   "id": "e9fdd1c9",
   "metadata": {
    "execution": {
     "iopub.execute_input": "2022-02-15T22:29:57.403899Z",
     "iopub.status.busy": "2022-02-15T22:29:57.402912Z",
     "iopub.status.idle": "2022-02-15T22:31:10.509103Z",
     "shell.execute_reply": "2022-02-15T22:31:10.509791Z",
     "shell.execute_reply.started": "2022-02-15T22:26:16.459330Z"
    },
    "papermill": {
     "duration": 73.140923,
     "end_time": "2022-02-15T22:31:10.509972",
     "exception": false,
     "start_time": "2022-02-15T22:29:57.369049",
     "status": "completed"
    },
    "tags": []
   },
   "outputs": [
    {
     "name": "stdout",
     "output_type": "stream",
     "text": [
      "Epoch 1 | Batch 0 | Training Loss 0.3494\n",
      "Epoch 1 | Batch 100 | Training Loss 0.3279\n",
      "Epoch 1 | Batch 200 | Training Loss 0.3111\n",
      "Epoch 1 | Batch 300 | Training Loss 0.3031\n",
      "Epoch 1 | Batch 400 | Training Loss 0.2660\n",
      "Epoch 1 | Batch 500 | Training Loss 0.2356\n",
      "Epoch 1 | Batch 600 | Training Loss 0.2337\n",
      "Epoch 1 | Loss 0.2882 | Training Acc. 49.9050 | Validation Acc. 62.4399\n",
      "Time taken for the epoch #1 : 1245.514891386032 sec\n",
      "\n",
      "Epoch 2 | Batch 0 | Training Loss 0.1826\n",
      "Epoch 2 | Batch 100 | Training Loss 0.1840\n",
      "Epoch 2 | Batch 200 | Training Loss 0.1633\n",
      "Epoch 2 | Batch 300 | Training Loss 0.1753\n",
      "Epoch 2 | Batch 400 | Training Loss 0.1552\n",
      "Epoch 2 | Batch 500 | Training Loss 0.1342\n",
      "Epoch 2 | Batch 600 | Training Loss 0.1202\n",
      "Epoch 2 | Loss 0.1584 | Training Acc. 76.2725 | Validation Acc. 77.1735\n",
      "Time taken for the epoch #2 : 1257.383760213852 sec\n",
      "\n",
      "Epoch 3 | Batch 0 | Training Loss 0.0524\n",
      "Epoch 3 | Batch 100 | Training Loss 0.0572\n",
      "Epoch 3 | Batch 200 | Training Loss 0.0592\n",
      "Epoch 3 | Batch 300 | Training Loss 0.0736\n",
      "Epoch 3 | Batch 400 | Training Loss 0.1169\n",
      "Epoch 3 | Batch 500 | Training Loss 0.0705\n",
      "Epoch 3 | Batch 600 | Training Loss 0.0461\n",
      "Epoch 3 | Loss 0.0715 | Training Acc. 89.6800 | Validation Acc. 80.9896\n",
      "Time taken for the epoch #3 : 1155.7968981266022 sec\n",
      "\n",
      "Epoch 4 | Batch 0 | Training Loss 0.0091\n",
      "Epoch 4 | Batch 100 | Training Loss 0.0144\n",
      "Epoch 4 | Batch 200 | Training Loss 0.0709\n",
      "Epoch 4 | Batch 300 | Training Loss 0.0609\n",
      "Epoch 4 | Batch 400 | Training Loss 0.0323\n",
      "Epoch 4 | Batch 500 | Training Loss 0.0281\n",
      "Epoch 4 | Batch 600 | Training Loss 0.0184\n",
      "Epoch 4 | Loss 0.0437 | Training Acc. 93.6475 | Validation Acc. 81.6506\n",
      "Time taken for the epoch #4 : 2296.3791518211365 sec\n",
      "\n"
     ]
    }
   ],
   "source": [
    "EPOCHS = 4\n",
    "\n",
    "for epoch in range(EPOCHS):\n",
    "\n",
    "    start = time.time()\n",
    "    total_loss, training_accuracy, validation_accuracy = 0, 0, 0\n",
    "\n",
    "    for (batch, (batch_input, batch_target, batch_length)) in enumerate(training_dataset):\n",
    "        loss = 0\n",
    "        predictions, _ = model(batch_input.permute(1, 0).to(device), device)\n",
    "\n",
    "        loss += loss_function(batch_target.to(device), predictions)\n",
    "        batch_loss = (loss / int(batch_target.shape[1]))\n",
    "        total_loss += batch_loss\n",
    "\n",
    "        optimizer.zero_grad()\n",
    "        loss.backward()\n",
    "        optimizer.step()\n",
    "\n",
    "        batch_accuracy = accuracy(batch_target.to(device), predictions)\n",
    "        training_accuracy += batch_accuracy\n",
    "\n",
    "        if batch % 100 == 0:\n",
    "            print('Epoch {} | Batch {} | Training Loss {:.4f}'.format(epoch + 1, batch, batch_loss.cpu().detach().numpy()))\n",
    "\n",
    "    for (batch, (batch_input, batch_target, batch_length)) in enumerate(validation_dataset):\n",
    "        predictions, _ = model(batch_input.permute(1, 0).to(device), device)\n",
    "        batch_accuracy = accuracy(batch_target.to(device), predictions)\n",
    "        validation_accuracy += batch_accuracy\n",
    "\n",
    "    print('Epoch {} | Loss {:.4f} | Training Acc. {:.4f} | Validation Acc. {:.4f}'.\n",
    "          format(epoch + 1, \n",
    "                 total_loss / TRAINING_BATCH_COUNT, \n",
    "                 training_accuracy / TRAINING_BATCH_COUNT, \n",
    "                 validation_accuracy / VALIDATION_BATCH_COUNT))\n",
    "\n",
    "    print('Time taken for the epoch #{} : {} sec\\n'.format(epoch + 1, time.time() - start))"
   ]
  },
  {
   "cell_type": "code",
   "execution_count": 15,
   "id": "c5a6690e",
   "metadata": {
    "execution": {
     "iopub.execute_input": "2022-02-15T22:31:10.591968Z",
     "iopub.status.busy": "2022-02-15T22:31:10.587035Z",
     "iopub.status.idle": "2022-02-15T22:31:10.725181Z",
     "shell.execute_reply": "2022-02-15T22:31:10.724614Z",
     "shell.execute_reply.started": "2022-02-15T22:27:25.896672Z"
    },
    "papermill": {
     "duration": 0.178275,
     "end_time": "2022-02-15T22:31:10.725325",
     "exception": false,
     "start_time": "2022-02-15T22:31:10.547050",
     "status": "completed"
    },
    "tags": []
   },
   "outputs": [
    {
     "name": "stdout",
     "output_type": "stream",
     "text": [
      "Test Accuracy 90.1042\n"
     ]
    }
   ],
   "source": [
    "x_raw = []\n",
    "y_raw = []\n",
    "all_predictions = []\n",
    "testing_accuracy = 0\n",
    "\n",
    "for (batch, (batch_input, batch_target, batch_length)) in enumerate(testing_dataset):\n",
    "        \n",
    "    predictions, _ = model(batch_input.permute(1, 0).to(device), device)\n",
    "    batch_accuracy = accuracy(batch_target.to(device), predictions)\n",
    "    testing_accuracy += batch_accuracy\n",
    "    \n",
    "    all_predictions = all_predictions + [i.item() for i in torch.max(predictions, 1)[1]]\n",
    "    y_raw = y_raw + [y.item() for y in torch.max(batch_target, 1)[1]]\n",
    "        \n",
    "print('Test Accuracy {:.4f}'.format(testing_accuracy.cpu().detach().numpy() / TESTING_BATCH_COUNT))"
   ]
  },
  {
   "cell_type": "code",
   "execution_count": 16,
   "id": "6a6e7f21",
   "metadata": {
    "execution": {
     "iopub.execute_input": "2022-02-15T22:31:10.808729Z",
     "iopub.status.busy": "2022-02-15T22:31:10.807657Z",
     "iopub.status.idle": "2022-02-15T22:31:11.288709Z",
     "shell.execute_reply": "2022-02-15T22:31:11.289253Z",
     "shell.execute_reply.started": "2022-02-15T22:27:26.022577Z"
    },
    "papermill": {
     "duration": 0.52678,
     "end_time": "2022-02-15T22:31:11.289440",
     "exception": false,
     "start_time": "2022-02-15T22:31:10.762660",
     "status": "completed"
    },
    "tags": []
   },
   "outputs": [
    {
     "data": {
      "image/png": "[encoded data removed]",
      "text/plain": [
       "<Figure size 1080x720 with 2 Axes>"
      ]
     },
     "metadata": {
      "needs_background": "light"
     },
     "output_type": "display_data"
    }
   ],
   "source": [
    "tsa_confusion_matrix = metrics.confusion_matrix(all_predictions, y_raw)\n",
    "tsa_confusion_matrix = tsa_confusion_matrix.astype(float)\n",
    "\n",
    "for i in range(len(tsa_confusion_matrix)):\n",
    "    tsa_confusion_matrix[i] = numpy.true_divide(tsa_confusion_matrix[i], tsa_confusion_matrix[i].sum())*100\n",
    "\n",
    "cm_df = pandas.DataFrame(tsa_confusion_matrix,\n",
    "                     index = [i for i in '1234'],\n",
    "                     columns = [i for i in '1234'])\n",
    "\n",
    "pyplot.figure(figsize = (15, 10))\n",
    "cmap = seaborn.diverging_palette(10, 240, n=9, as_cmap=True)\n",
    "seaborn.heatmap(cm_df, annot=True, cmap=cmap)\n",
    "\n",
    "pyplot.title('Confusion matrix of tweet sentiments (%)', fontsize=14)\n",
    "pyplot.show()"
   ]
  },
  {
   "cell_type": "code",
   "execution_count": null,
   "id": "6ca5d155",
   "metadata": {
    "papermill": {
     "duration": 0.039356,
     "end_time": "2022-02-15T22:31:11.368550",
     "exception": false,
     "start_time": "2022-02-15T22:31:11.329194",
     "status": "completed"
    },
    "tags": []
   },
   "outputs": [],
   "source": []
  }
 ],
 "metadata": {
  "kernelspec": {
   "display_name": "Python 3",
   "language": "python",
   "name": "python3"
  },
  "language_info": {
   "codemirror_mode": {
    "name": "ipython",
    "version": 3
   },
   "file_extension": ".py",
   "mimetype": "text/x-python",
   "name": "python",
   "nbconvert_exporter": "python",
   "pygments_lexer": "ipython3",
   "version": "3.8.10"
  },
  "papermill": {
   "default_parameters": {},
   "duration": 128.756441,
   "end_time": "2022-02-15T22:31:13.801351",
   "environment_variables": {},
   "exception": null,
   "input_path": "__notebook__.ipynb",
   "output_path": "__notebook__.ipynb",
   "parameters": {},
   "start_time": "2022-02-15T22:29:05.044910",
   "version": "2.3.3"
  }
 },
 "nbformat": 4,
 "nbformat_minor": 5
}
